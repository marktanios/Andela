{
 "cells": [
  {
   "cell_type": "markdown",
   "metadata": {},
   "source": [
    "## Import Packages"
   ]
  },
  {
   "cell_type": "code",
   "execution_count": null,
   "metadata": {
    "collapsed": true
   },
   "outputs": [],
   "source": [
    "import requests\n",
    "import datetime\n",
    "import psycopg2\n",
    "import json\n",
    "import dateutil.parser as parser\n",
    "from datetime import datetime\n",
    "from flask import Markup\n",
    "from flask import Flask, flash, redirect, render_template,request, url_for"
   ]
  },
  {
   "cell_type": "markdown",
   "metadata": {},
   "source": [
    "## Calling API"
   ]
  },
  {
   "cell_type": "code",
   "execution_count": null,
   "metadata": {
    "collapsed": true
   },
   "outputs": [],
   "source": [
    "# Set Start Date in ISO-1806 Format\n",
    "date = datetime.strptime('Jan 1 2016  10:00AM', '%b %d %Y %I:%M%p')\n",
    "StartTime= date.isoformat()\n",
    "\n",
    "# Set End Date in ISO-1806 Format\n",
    "date = datetime.strptime('May 8 2020  5:00PM', '%b %d %Y %I:%M%p')\n",
    "EndTime= date.isoformat()\n",
    "\n",
    "#Define Currencies\n",
    "Currencies = ['BTC','ETH','XRP','LTC']\n",
    "\n",
    "#Create Dictinary of responses along with it's key (Currency)\n",
    "responses = {x: '' for x in Currencies}\n",
    "ApiKey='17C82964-BB67-47A6-B5B5-69CBEABE84DB'\n",
    "for Cur in Currencies:\n",
    "    responses[Cur] = requests.get(\n",
    "        'https://rest.coinapi.io/v1/ohlcv/'+Cur+'/USD/history?period_id=1DAY&time_start='+StartTime+'&time_end='+EndTime,\n",
    "        headers={'Accept': 'application/json','X-CoinAPI-Key':ApiKey},)"
   ]
  },
  {
   "cell_type": "markdown",
   "metadata": {},
   "source": [
    "## Initializing Connection to PostGres DB"
   ]
  },
  {
   "cell_type": "code",
   "execution_count": null,
   "metadata": {
    "collapsed": true
   },
   "outputs": [],
   "source": [
    "conn = psycopg2.connect(database=\"curren\", user=\"postgres\", password=\"P@ss1234\")\n",
    "cur = conn.cursor()"
   ]
  },
  {
   "cell_type": "markdown",
   "metadata": {},
   "source": [
    "## Create Currencies DB"
   ]
  },
  {
   "cell_type": "code",
   "execution_count": null,
   "metadata": {},
   "outputs": [],
   "source": [
    "sql = '''CREATE TABLE curren(\n",
    "         CUR_ID CHAR(10) NOT NULL,\n",
    "         CUR_NAME CHAR(30)\n",
    "      )'''\n",
    "cur.execute(sql)"
   ]
  },
  {
   "cell_type": "markdown",
   "metadata": {},
   "source": [
    "## Insert Currencies Values"
   ]
  },
  {
   "cell_type": "code",
   "execution_count": null,
   "metadata": {
    "collapsed": true
   },
   "outputs": [],
   "source": [
    "sql = '''insert into curren values ('BTC','BitCoint')'''\n",
    "cur.execute(sql)\n",
    "sql = '''insert into curren values ('ETH','Ethereum')'''\n",
    "cur.execute(sql)\n",
    "sql = '''insert into curren values ('XRP','Ripple')'''\n",
    "cur.execute(sql)\n",
    "sql = '''insert into curren values ('LTC','LiteCoin')'''\n",
    "cur.execute(sql)\n",
    "conn.commit()"
   ]
  },
  {
   "cell_type": "markdown",
   "metadata": {},
   "source": [
    "## Check that the insertion is Successfull"
   ]
  },
  {
   "cell_type": "code",
   "execution_count": null,
   "metadata": {},
   "outputs": [],
   "source": [
    "sql = \"\"\"select * from curren\"\"\"\n",
    "cur.execute(sql)\n",
    "row = cur.fetchone()\n",
    "while row is not None:\n",
    "    print(row)\n",
    "    row = cur.fetchone()"
   ]
  },
  {
   "cell_type": "markdown",
   "metadata": {},
   "source": [
    "## Create Currency Trade History"
   ]
  },
  {
   "cell_type": "code",
   "execution_count": null,
   "metadata": {
    "collapsed": true
   },
   "outputs": [],
   "source": [
    "sql = '''CREATE TABLE cur_trad_hist(\n",
    "         cur_id CHAR(10),\n",
    "         insert_ts TIMESTAMP,\n",
    "         price_close FLOAT(3),\n",
    "         price_high FLOAT(3),\n",
    "         price_low FLOAT(3),\n",
    "         price_open FLOAT(3),\n",
    "         time_close TIMESTAMP,\n",
    "         time_open TIMESTAMP,\n",
    "         time_period_end TIMESTAMP,\n",
    "         time_period_start TIMESTAMP,\n",
    "         trades_count INT,\n",
    "         volume_traded FLOAT(8))'''\n",
    "cur.execute(sql)\n",
    "conn.commit()"
   ]
  },
  {
   "cell_type": "markdown",
   "metadata": {},
   "source": [
    "## I'm using this block whenever there is an error in the DB"
   ]
  },
  {
   "cell_type": "code",
   "execution_count": null,
   "metadata": {
    "collapsed": true
   },
   "outputs": [],
   "source": [
    "cur.execute(\"ROLLBACK\")\n",
    "conn.commit()"
   ]
  },
  {
   "cell_type": "markdown",
   "metadata": {},
   "source": [
    "## Inserting the repsonses into the DB"
   ]
  },
  {
   "cell_type": "code",
   "execution_count": null,
   "metadata": {
    "collapsed": true
   },
   "outputs": [],
   "source": [
    "for Cur in Currencies:\n",
    "    #For each response of the responses\n",
    "    for i in range(0,len(responses[Cur].json())):\n",
    "        #change time close format to match DB input format\n",
    "        datestr = responses[Cur].json()[i]['time_close'][:-9]\n",
    "        newdate = datetime.strptime(datestr,'%Y-%m-%dT%H:%M:%S')\n",
    "        time_close = newdate.strftime(\"%Y-%m-%d %H:%M:%S\")\n",
    "\n",
    "        #change time open format to match DB input format\n",
    "        datestr = responses[Cur].json()[i]['time_open'][:-9]\n",
    "        newdate = datetime.strptime(datestr,'%Y-%m-%dT%H:%M:%S')\n",
    "        time_open = newdate.strftime(\"%Y-%m-%d %H:%M:%S\")\n",
    "\n",
    "        #change time period end format to match DB input format\n",
    "        datestr = responses[Cur].json()[i]['time_period_end'][:-9]\n",
    "        newdate = datetime.strptime(datestr,'%Y-%m-%dT%H:%M:%S')\n",
    "        time_period_end = newdate.strftime(\"%Y-%m-%d %H:%M:%S\")\n",
    "\n",
    "        #change time period start format to match DB input format\n",
    "        datestr = responses[Cur].json()[i]['time_period_start'][:-9]\n",
    "        newdate = datetime.strptime(datestr,'%Y-%m-%dT%H:%M:%S')\n",
    "        time_period_start = newdate.strftime(\"%Y-%m-%d %H:%M:%S\")\n",
    "\n",
    "        #get current time of insertion\n",
    "        now = datetime.now() # current date and time\n",
    "        date_time = now.strftime(\"%Y-%m-%d %H:%M:%S\")\n",
    "        \n",
    "        #Build the SQL Statment\n",
    "        sql = \"\"\"INSERT INTO cur_trad_hist VALUES ('\"\"\"+Cur+\"\"\"','\"\"\"\\\n",
    "        +date_time+'''','''\\\n",
    "        +str(responses[Cur].json()[i]['price_close'])+\"\"\",\"\"\"\\\n",
    "        +str(responses[Cur].json()[i]['price_high'])+\"\"\",\"\"\"\\\n",
    "        +str(responses[Cur].json()[i]['price_low'])+\"\"\",\"\"\"\\\n",
    "        +str(responses[Cur].json()[i]['price_open'])+\"\"\",'\"\"\"\\\n",
    "        +time_close+\"\"\"','\"\"\"\\\n",
    "        +time_open+\"\"\"','\"\"\"\\\n",
    "        +time_period_end+\"\"\"','\"\"\"\\\n",
    "        +time_period_start+\"\"\"',\"\"\"\\\n",
    "        +str(responses[Cur].json()[i]['trades_count'])+\"\"\",\"\"\"\\\n",
    "        +str(responses[Cur].json()[i]['volume_traded'])+\"\"\")\"\"\"\n",
    "\n",
    "        #Execute the SQL\n",
    "        cur.execute(sql)\n",
    "conn.commit()"
   ]
  },
  {
   "cell_type": "markdown",
   "metadata": {},
   "source": [
    "## Make sure that the insertion is successfull"
   ]
  },
  {
   "cell_type": "code",
   "execution_count": null,
   "metadata": {},
   "outputs": [],
   "source": [
    "sql = \"\"\"select * from cur_trad_hist\"\"\"\n",
    "cur.execute(sql)\n",
    "row = cur.fetchone()\n",
    "for i in range(0,10):\n",
    "    print(row)\n",
    "    row = cur.fetchone()"
   ]
  },
  {
   "cell_type": "markdown",
   "metadata": {},
   "source": [
    "## Fill in values from DB to the Chart values"
   ]
  },
  {
   "cell_type": "code",
   "execution_count": null,
   "metadata": {},
   "outputs": [],
   "source": [
    "labels = []\n",
    "values = []\n",
    "\n",
    "#Aggregating average trade count by month and year\n",
    "sql = \"\"\"select to_char(time_open,'Mon') as mon,extract(year from time_open) as yyyy, avg(\"trades_count\") as \"trades_count\" from cur_trad_hist where cur_id='BTC' group by 1,2\"\"\"\n",
    "cur.execute(sql)\n",
    "roww = cur.fetchone()\n",
    "while roww is not None:\n",
    "    print(roww)\n",
    "    label = roww[0]+\"_\"+str(int(roww[1]))\n",
    "    labels.append(label)\n",
    "    value = round(roww[2],2)\n",
    "    values.append(value)\n",
    "    roww = cur.fetchone()"
   ]
  },
  {
   "cell_type": "markdown",
   "metadata": {},
   "source": [
    "## Calling Flask App to send values and labels to the Chart"
   ]
  },
  {
   "cell_type": "code",
   "execution_count": null,
   "metadata": {},
   "outputs": [],
   "source": [
    "app = Flask(__name__)\n",
    "\n",
    "\n",
    "colors = [\n",
    "    \"#F7464A\", \"#46BFBD\", \"#FDB45C\", \"#FEDCBA\",\n",
    "    \"#ABCDEF\", \"#DDDDDD\", \"#ABCABC\", \"#4169E1\",\n",
    "    \"#C71585\", \"#FF4500\", \"#FEDCBA\", \"#46BFBD\"]\n",
    "\n",
    "#def new_task():\n",
    "#    if request.method == 'POST':\n",
    "#        tts = request.form['tts']\n",
    "#        flash(str(tts)+'is being selected\n",
    "\n",
    "BitCoinsValues = ['BTC','ETH','XRP','LTC']\n",
    "\n",
    "@app.route('/', methods=['GET', 'POST'])\n",
    "def bar():\n",
    "    if request.method == \"GET\":\n",
    "        NumberofZeros = len(str(int(max(values))))\n",
    "        FirstDigit = int(str(int(max(values)))[:1])+1\n",
    "        for i in range(1,NumberofZeros):\n",
    "            FirstDigit=FirstDigit*10\n",
    "        bar_labels=labels\n",
    "        bar_values=values\n",
    "        return render_template('chart.html', title='BTC Bitcoin Monthly Average Number of Trades', max=FirstDigit,bitcoins=BitCoinsValues, labels=bar_labels, values=bar_values)\n",
    "    else:\n",
    "        select = request.form.get('bitc')\n",
    "        coinValue = str(select)\n",
    "        Newlabels = []\n",
    "        Newvalues = []\n",
    "        #Aggregating average trade count by month and year\n",
    "        sql = \"\"\"select to_char(time_open,'Mon') as mon,extract(year from time_open) as yyyy, avg(\"trades_count\") as \"trades_count\" from cur_trad_hist where cur_id='\"\"\"+coinValue+\"\"\"' group by 1,2\"\"\"\n",
    "        cur.execute(sql)\n",
    "        roww = cur.fetchone()\n",
    "        while roww is not None:\n",
    "            label = roww[0]+\"_\"+str(int(roww[1]))\n",
    "            Newlabels.append(label)\n",
    "            value = round(roww[2],2)\n",
    "            Newvalues.append(value)\n",
    "            roww = cur.fetchone()\n",
    "        NumberofZeros = len(str(int(max(Newvalues))))\n",
    "        FirstDigit = int(str(int(max(Newvalues)))[:1])+1\n",
    "        for i in range(1,NumberofZeros):\n",
    "            FirstDigit=FirstDigit*10\n",
    "        Newbar_labels=Newlabels\n",
    "        Newbar_values=Newvalues\n",
    "        return render_template('chart.html', title='BTC Bitcoin Monthly Average Number of Trades', max=FirstDigit,bitcoins=BitCoinsValues, labels=Newbar_labels, values=Newbar_values)\n",
    "\n",
    "\n",
    "if __name__ == \"__main__\":\n",
    "    app.run()"
   ]
  }
 ],
 "metadata": {
  "kernelspec": {
   "display_name": "Python 2",
   "language": "python",
   "name": "python2"
  },
  "language_info": {
   "codemirror_mode": {
    "name": "ipython",
    "version": 2
   },
   "file_extension": ".py",
   "mimetype": "text/x-python",
   "name": "python",
   "nbconvert_exporter": "python",
   "pygments_lexer": "ipython2",
   "version": "2.7.13"
  }
 },
 "nbformat": 4,
 "nbformat_minor": 2
}
