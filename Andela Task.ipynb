{
 "cells": [
  {
   "cell_type": "markdown",
   "metadata": {},
   "source": [
    "## Import Packages"
   ]
  },
  {
   "cell_type": "code",
   "execution_count": 1,
   "metadata": {
    "collapsed": true
   },
   "outputs": [],
   "source": [
    "import requests\n",
    "import datetime\n",
    "import psycopg2\n",
    "import json\n",
    "import dateutil.parser as parser\n",
    "from datetime import datetime\n",
    "from flask import Markup\n",
    "from flask import Flask\n",
    "from flask import render_template"
   ]
  },
  {
   "cell_type": "markdown",
   "metadata": {},
   "source": [
    "## Calling API"
   ]
  },
  {
   "cell_type": "code",
   "execution_count": null,
   "metadata": {
    "collapsed": true
   },
   "outputs": [],
   "source": [
    "# Set Start Date in ISO-1806 Format\n",
    "date = datetime.strptime('Jan 1 2016  10:00AM', '%b %d %Y %I:%M%p')\n",
    "StartTime= date.isoformat()\n",
    "\n",
    "# Set End Date in ISO-1806 Format\n",
    "date = datetime.strptime('May 8 2020  5:00PM', '%b %d %Y %I:%M%p')\n",
    "EndTime= date.isoformat()\n",
    "\n",
    "#Define Currencies\n",
    "Currencies = ['BTC','ETH','XRP','LTC']\n",
    "\n",
    "#Create Dictinary of responses along with it's key (Currency)\n",
    "responses = {x: '' for x in Currencies}\n",
    "ApiKey='17C82964-BB67-47A6-B5B5-69CBEABE84DB'\n",
    "for Cur in Currencies:\n",
    "    responses[Cur] = requests.get(\n",
    "        'https://rest.coinapi.io/v1/ohlcv/'+Cur+'/USD/history?period_id=1DAY&time_start='+StartTime+'&time_end='+EndTime,\n",
    "        headers={'Accept': 'application/json','X-CoinAPI-Key':ApiKey},)"
   ]
  },
  {
   "cell_type": "markdown",
   "metadata": {},
   "source": [
    "## Initializing Connection to PostGres DB"
   ]
  },
  {
   "cell_type": "code",
   "execution_count": 2,
   "metadata": {
    "collapsed": true
   },
   "outputs": [],
   "source": [
    "conn = psycopg2.connect(database=\"curren\", user=\"postgres\", password=\"P@ss1234\")\n",
    "cur = conn.cursor()"
   ]
  },
  {
   "cell_type": "markdown",
   "metadata": {},
   "source": [
    "## Create Currencies DB"
   ]
  },
  {
   "cell_type": "code",
   "execution_count": null,
   "metadata": {},
   "outputs": [],
   "source": [
    "sql = '''CREATE TABLE curren(\n",
    "         CUR_ID CHAR(10) NOT NULL,\n",
    "         CUR_NAME CHAR(30)\n",
    "      )'''\n",
    "cur.execute(sql)"
   ]
  },
  {
   "cell_type": "markdown",
   "metadata": {},
   "source": [
    "## Insert Currencies Values"
   ]
  },
  {
   "cell_type": "code",
   "execution_count": null,
   "metadata": {
    "collapsed": true
   },
   "outputs": [],
   "source": [
    "sql = '''insert into curren values ('BTC','BitCoint')'''\n",
    "cur.execute(sql)\n",
    "sql = '''insert into curren values ('ETH','Ethereum')'''\n",
    "cur.execute(sql)\n",
    "sql = '''insert into curren values ('XRP','Ripple')'''\n",
    "cur.execute(sql)\n",
    "sql = '''insert into curren values ('LTC','LiteCoin')'''\n",
    "cur.execute(sql)\n",
    "conn.commit()"
   ]
  },
  {
   "cell_type": "markdown",
   "metadata": {},
   "source": [
    "## Check that the insertion is Successfull"
   ]
  },
  {
   "cell_type": "code",
   "execution_count": null,
   "metadata": {},
   "outputs": [],
   "source": [
    "sql = \"\"\"select * from curren\"\"\"\n",
    "cur.execute(sql)\n",
    "row = cur.fetchone()\n",
    "while row is not None:\n",
    "    print(row)\n",
    "    row = cur.fetchone()"
   ]
  },
  {
   "cell_type": "markdown",
   "metadata": {},
   "source": [
    "## Create Currency Trade History"
   ]
  },
  {
   "cell_type": "code",
   "execution_count": null,
   "metadata": {
    "collapsed": true
   },
   "outputs": [],
   "source": [
    "sql = '''CREATE TABLE cur_trad_hist(\n",
    "         cur_id CHAR(10),\n",
    "         insert_ts TIMESTAMP,\n",
    "         price_close FLOAT(3),\n",
    "         price_high FLOAT(3),\n",
    "         price_low FLOAT(3),\n",
    "         price_open FLOAT(3),\n",
    "         time_close TIMESTAMP,\n",
    "         time_open TIMESTAMP,\n",
    "         time_period_end TIMESTAMP,\n",
    "         time_period_start TIMESTAMP,\n",
    "         trades_count INT,\n",
    "         volume_traded FLOAT(8))'''\n",
    "cur.execute(sql)\n",
    "conn.commit()"
   ]
  },
  {
   "cell_type": "markdown",
   "metadata": {},
   "source": [
    "## I'm using this block whenever there is an error in the DB"
   ]
  },
  {
   "cell_type": "code",
   "execution_count": null,
   "metadata": {
    "collapsed": true
   },
   "outputs": [],
   "source": [
    "#cur.execute(\"ROLLBACK\")\n",
    "conn.commit()"
   ]
  },
  {
   "cell_type": "markdown",
   "metadata": {},
   "source": [
    "## Inserting the repsonses into the DB"
   ]
  },
  {
   "cell_type": "code",
   "execution_count": null,
   "metadata": {},
   "outputs": [],
   "source": [
    "for Cur in Currencies:\n",
    "    #For each response of the responses\n",
    "    for i in range(0,len(responses[Cur].json())):\n",
    "        #change time close format to match DB input format\n",
    "        datestr = responses[Cur].json()[i]['time_close'][:-9]\n",
    "        newdate = datetime.strptime(datestr,'%Y-%m-%dT%H:%M:%S')\n",
    "        time_close = newdate.strftime(\"%Y-%m-%d %H:%M:%S\")\n",
    "\n",
    "        #change time open format to match DB input format\n",
    "        datestr = responses[Cur].json()[i]['time_open'][:-9]\n",
    "        newdate = datetime.strptime(datestr,'%Y-%m-%dT%H:%M:%S')\n",
    "        time_open = newdate.strftime(\"%Y-%m-%d %H:%M:%S\")\n",
    "\n",
    "        #change time period end format to match DB input format\n",
    "        datestr = responses[Cur].json()[i]['time_period_end'][:-9]\n",
    "        newdate = datetime.strptime(datestr,'%Y-%m-%dT%H:%M:%S')\n",
    "        time_period_end = newdate.strftime(\"%Y-%m-%d %H:%M:%S\")\n",
    "\n",
    "        #change time period start format to match DB input format\n",
    "        datestr = responses[Cur].json()[i]['time_period_start'][:-9]\n",
    "        newdate = datetime.strptime(datestr,'%Y-%m-%dT%H:%M:%S')\n",
    "        time_period_start = newdate.strftime(\"%Y-%m-%d %H:%M:%S\")\n",
    "\n",
    "        #get current time of insertion\n",
    "        now = datetime.now() # current date and time\n",
    "        date_time = now.strftime(\"%Y-%m-%d %H:%M:%S\")\n",
    "        \n",
    "        #Build the SQL Statment\n",
    "        sql = \"\"\"INSERT INTO cur_trad_hist VALUES ('\"\"\"+Cur+\"\"\"','\"\"\"\\\n",
    "        +date_time+'''','''\\\n",
    "        +str(responses[Cur].json()[i]['price_close'])+\"\"\",\"\"\"\\\n",
    "        +str(responses[Cur].json()[i]['price_high'])+\"\"\",\"\"\"\\\n",
    "        +str(responses[Cur].json()[i]['price_low'])+\"\"\",\"\"\"\\\n",
    "        +str(responses[Cur].json()[i]['price_open'])+\"\"\",'\"\"\"\\\n",
    "        +time_close+\"\"\"','\"\"\"\\\n",
    "        +time_open+\"\"\"','\"\"\"\\\n",
    "        +time_period_end+\"\"\"','\"\"\"\\\n",
    "        +time_period_start+\"\"\"',\"\"\"\\\n",
    "        +str(responses[Cur].json()[i]['trades_count'])+\"\"\",\"\"\"\\\n",
    "        +str(responses[Cur].json()[i]['volume_traded'])+\"\"\")\"\"\"\n",
    "\n",
    "        #Execute the SQL\n",
    "        cur.execute(sql)\n",
    "conn.commit()"
   ]
  },
  {
   "cell_type": "markdown",
   "metadata": {},
   "source": [
    "## Make sure that the insertion is successfull"
   ]
  },
  {
   "cell_type": "code",
   "execution_count": 3,
   "metadata": {},
   "outputs": [
    {
     "name": "stdout",
     "output_type": "stream",
     "text": [
      "('BTC       ', datetime.datetime(2020, 5, 13, 21, 41, 35), 435.4, 437.56, 430.325, 435.67, datetime.datetime(2016, 1, 2, 23, 59, 23), datetime.datetime(2016, 1, 2, 0, 0, 2), datetime.datetime(2016, 1, 3, 0, 0), datetime.datetime(2016, 1, 2, 0, 0), 14678, 6274.26)\n",
      "('BTC       ', datetime.datetime(2020, 5, 13, 21, 41, 35), 431.91, 435.75, 422.98, 433.2, datetime.datetime(2016, 1, 3, 23, 59, 59), datetime.datetime(2016, 1, 3, 0, 0, 30), datetime.datetime(2016, 1, 4, 0, 0), datetime.datetime(2016, 1, 3, 0, 0), 19975, 8499.04)\n",
      "('BTC       ', datetime.datetime(2020, 5, 13, 21, 41, 35), 434.17, 435.86, 426.56, 431.54, datetime.datetime(2016, 1, 4, 23, 59, 56), datetime.datetime(2016, 1, 4, 0, 0, 22), datetime.datetime(2016, 1, 5, 0, 0), datetime.datetime(2016, 1, 4, 0, 0), 14929, 11652.3)\n",
      "('BTC       ', datetime.datetime(2020, 5, 13, 21, 41, 35), 433.34, 435.64, 429.0, 433.31, datetime.datetime(2016, 1, 5, 23, 59, 31), datetime.datetime(2016, 1, 5, 0, 0, 13), datetime.datetime(2016, 1, 6, 0, 0), datetime.datetime(2016, 1, 5, 0, 0), 18046, 9065.91)\n",
      "('BTC       ', datetime.datetime(2020, 5, 13, 21, 41, 35), 430.87, 433.46, 426.54, 433.32, datetime.datetime(2016, 1, 6, 23, 59, 55), datetime.datetime(2016, 1, 6, 0, 0, 1), datetime.datetime(2016, 1, 7, 0, 0), datetime.datetime(2016, 1, 6, 0, 0), 22638, 11004.6)\n",
      "('BTC       ', datetime.datetime(2020, 5, 13, 21, 41, 35), 459.07, 460.15, 427.781, 430.66, datetime.datetime(2016, 1, 7, 23, 59, 59), datetime.datetime(2016, 1, 7, 0, 0, 2), datetime.datetime(2016, 1, 8, 0, 0), datetime.datetime(2016, 1, 7, 0, 0), 41915, 30873.4)\n",
      "('BTC       ', datetime.datetime(2020, 5, 13, 21, 41, 35), 454.44, 465.0, 444.51, 459.07, datetime.datetime(2016, 1, 8, 23, 59, 32), datetime.datetime(2016, 1, 8, 0, 0, 2), datetime.datetime(2016, 1, 9, 0, 0), datetime.datetime(2016, 1, 8, 0, 0), 26481, 18710.7)\n",
      "('BTC       ', datetime.datetime(2020, 5, 13, 21, 41, 35), 448.84, 459.872, 446.68, 452.02, datetime.datetime(2016, 1, 9, 23, 59, 37), datetime.datetime(2016, 1, 9, 0, 0, 4), datetime.datetime(2016, 1, 10, 0, 0), datetime.datetime(2016, 1, 9, 0, 0), 22978, 8722.19)\n",
      "('BTC       ', datetime.datetime(2020, 5, 13, 21, 41, 35), 448.79, 451.39, 440.8, 450.39, datetime.datetime(2016, 1, 10, 23, 59, 41), datetime.datetime(2016, 1, 10, 0, 0, 1), datetime.datetime(2016, 1, 11, 0, 0), datetime.datetime(2016, 1, 10, 0, 0), 16386, 8071.25)\n",
      "('BTC       ', datetime.datetime(2020, 5, 13, 21, 41, 35), 448.0, 454.53, 438.0, 448.2, datetime.datetime(2016, 1, 11, 23, 59, 59), datetime.datetime(2016, 1, 11, 0, 0, 4), datetime.datetime(2016, 1, 12, 0, 0), datetime.datetime(2016, 1, 11, 0, 0), 21625, 13694.3)\n"
     ]
    }
   ],
   "source": [
    "sql = \"\"\"select * from cur_trad_hist\"\"\"\n",
    "cur.execute(sql)\n",
    "row = cur.fetchone()\n",
    "for i in range(0,10):\n",
    "    print(row)\n",
    "    row = cur.fetchone()"
   ]
  },
  {
   "cell_type": "markdown",
   "metadata": {},
   "source": [
    "## Fill in values from DB to the Chart values"
   ]
  },
  {
   "cell_type": "code",
   "execution_count": 3,
   "metadata": {},
   "outputs": [
    {
     "name": "stdout",
     "output_type": "stream",
     "text": [
      "('Jan', 2016.0, Decimal('24209.333333333333'))\n",
      "('Feb', 2016.0, Decimal('27944.586206896552'))\n",
      "('Apr', 2016.0, Decimal('22349.700000000000'))\n",
      "('Mar', 2016.0, Decimal('21624.129032258065'))\n"
     ]
    }
   ],
   "source": [
    "labels = []\n",
    "values = []\n",
    "\n",
    "#Aggregating average trade count by month and year\n",
    "sql = \"\"\"select to_char(time_open,'Mon') as mon,extract(year from time_open) as yyyy, avg(\"trades_count\") as \"trades_count\" from cur_trad_hist where cur_id='BTC' group by 1,2\"\"\"\n",
    "cur.execute(sql)\n",
    "roww = cur.fetchone()\n",
    "while roww is not None:\n",
    "    print(roww)\n",
    "    label = roww[0]+\"_\"+str(int(roww[1]))\n",
    "    labels.append(label)\n",
    "    value = round(roww[2],2)\n",
    "    values.append(value)\n",
    "    roww = cur.fetchone()"
   ]
  },
  {
   "cell_type": "markdown",
   "metadata": {},
   "source": [
    "## Calling Flask App to send values and labels to the Chart"
   ]
  },
  {
   "cell_type": "code",
   "execution_count": null,
   "metadata": {},
   "outputs": [
    {
     "name": "stderr",
     "output_type": "stream",
     "text": [
      " * Running on http://127.0.0.1:5000/ (Press CTRL+C to quit)\n",
      "127.0.0.1 - - [13/May/2020 22:42:27] \"GET / HTTP/1.1\" 200 -\n",
      "127.0.0.1 - - [13/May/2020 23:04:55] \"GET / HTTP/1.1\" 200 -\n"
     ]
    }
   ],
   "source": [
    "app = Flask(__name__)\n",
    "\n",
    "\n",
    "colors = [\n",
    "    \"#F7464A\", \"#46BFBD\", \"#FDB45C\", \"#FEDCBA\",\n",
    "    \"#ABCDEF\", \"#DDDDDD\", \"#ABCABC\", \"#4169E1\",\n",
    "    \"#C71585\", \"#FF4500\", \"#FEDCBA\", \"#46BFBD\"]\n",
    "\n",
    "@app.route('/')\n",
    "def bar():\n",
    "    bar_labels=labels\n",
    "    bar_values=values\n",
    "    return render_template('chart.html', title='BTC Bitcoin Monthly Average Number of Trades', max=30000, labels=bar_labels, values=bar_values)\n",
    "\n",
    "if __name__ == \"__main__\":\n",
    "    app.run()"
   ]
  }
 ],
 "metadata": {
  "kernelspec": {
   "display_name": "Python 2",
   "language": "python",
   "name": "python2"
  },
  "language_info": {
   "codemirror_mode": {
    "name": "ipython",
    "version": 2
   },
   "file_extension": ".py",
   "mimetype": "text/x-python",
   "name": "python",
   "nbconvert_exporter": "python",
   "pygments_lexer": "ipython2",
   "version": "2.7.13"
  }
 },
 "nbformat": 4,
 "nbformat_minor": 2
}
